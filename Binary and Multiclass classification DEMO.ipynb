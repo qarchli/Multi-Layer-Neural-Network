{
 "cells": [
  {
   "cell_type": "code",
   "execution_count": 1,
   "metadata": {
    "ExecuteTime": {
     "end_time": "2019-03-12T23:46:26.748487Z",
     "start_time": "2019-03-12T23:46:24.290342Z"
    }
   },
   "outputs": [],
   "source": [
    "import numpy as np\n",
    "import matplotlib.pyplot as plt\n",
    "from utils import performance\n",
    "import neural_net\n",
    "from utils import activation_functions as activations\n",
    "import h5py"
   ]
  },
  {
   "cell_type": "markdown",
   "metadata": {},
   "source": [
    "## Binary classification: Cats recognition"
   ]
  },
  {
   "cell_type": "code",
   "execution_count": 2,
   "metadata": {
    "ExecuteTime": {
     "end_time": "2019-03-12T23:46:27.900089Z",
     "start_time": "2019-03-12T23:46:27.888292Z"
    }
   },
   "outputs": [],
   "source": [
    "np.random.seed(1)\n",
    "\n",
    "def load_data():\n",
    "    train_dataset = h5py.File('datasets/train_catvnoncat.h5',\"r\")\n",
    "    train_set_x_orig = np.array(train_dataset[\"train_set_x\"][:]) # training set features\n",
    "    train_set_y_orig = np.array(train_dataset[\"train_set_y\"][:]) # training set labels\n",
    "\n",
    "    test_dataset = h5py.File('datasets/test_catvnoncat.h5', \"r\")\n",
    "    test_set_x_orig = np.array(test_dataset[\"test_set_x\"][:]) # test set features\n",
    "    test_set_y_orig = np.array(test_dataset[\"test_set_y\"][:]) # test set labels\n",
    "\n",
    "    classes = np.array(test_dataset[\"list_classes\"][:]) # the list of classes\n",
    "    \n",
    "    train_set_y_orig = train_set_y_orig.reshape((1, train_set_y_orig.shape[0]))\n",
    "    test_set_y_orig = test_set_y_orig.reshape((1, test_set_y_orig.shape[0]))\n",
    "    \n",
    "    return train_set_x_orig, train_set_y_orig, test_set_x_orig, test_set_y_orig, classes"
   ]
  },
  {
   "cell_type": "code",
   "execution_count": 3,
   "metadata": {
    "ExecuteTime": {
     "end_time": "2019-03-12T23:46:28.803936Z",
     "start_time": "2019-03-12T23:46:28.448178Z"
    }
   },
   "outputs": [],
   "source": [
    "train_x_orig, train_y, test_x_orig, test_y, classes = load_data()"
   ]
  },
  {
   "cell_type": "code",
   "execution_count": 4,
   "metadata": {
    "ExecuteTime": {
     "end_time": "2019-03-12T23:46:29.447076Z",
     "start_time": "2019-03-12T23:46:28.950589Z"
    }
   },
   "outputs": [
    {
     "name": "stdout",
     "output_type": "stream",
     "text": [
      "y = 1. It's a cat picture.\n"
     ]
    },
    {
     "data": {
      "image/png": "[encoded data removed]",
      "text/plain": [
       "<Figure size 432x288 with 1 Axes>"
      ]
     },
     "metadata": {
      "needs_background": "light"
     },
     "output_type": "display_data"
    }
   ],
   "source": [
    "# Example of a picture\n",
    "index = 111\n",
    "plt.imshow(train_x_orig[index])\n",
    "print (\"y = \" + str(train_y[0,index]) + \". It's a \" + classes[train_y[0,index]].decode(\"utf-8\") +  \" picture.\")"
   ]
  },
  {
   "cell_type": "code",
   "execution_count": 5,
   "metadata": {
    "ExecuteTime": {
     "end_time": "2019-03-12T23:46:29.845863Z",
     "start_time": "2019-03-12T23:46:29.838924Z"
    }
   },
   "outputs": [
    {
     "name": "stdout",
     "output_type": "stream",
     "text": [
      "Number of training examples: 209\n",
      "Number of testing examples: 50\n",
      "Each image is of size: (64, 64, 3)\n",
      "train_x_orig shape: (209, 64, 64, 3)\n",
      "train_y shape: (1, 209)\n",
      "test_x_orig shape: (50, 64, 64, 3)\n",
      "test_y shape: (1, 50)\n"
     ]
    }
   ],
   "source": [
    "# Explore your dataset\n",
    "m_train = train_x_orig.shape[0]\n",
    "num_px = train_x_orig.shape[1]\n",
    "m_test = test_x_orig.shape[0]\n",
    "\n",
    "print(\"Number of training examples: \" + str(m_train))\n",
    "print(\"Number of testing examples: \" + str(m_test))\n",
    "print(\"Each image is of size: (\" + str(num_px) + \", \" + str(num_px) + \", 3)\")\n",
    "print(\"train_x_orig shape: \" + str(train_x_orig.shape))\n",
    "print(\"train_y shape: \" + str(train_y.shape))\n",
    "print(\"test_x_orig shape: \" + str(test_x_orig.shape))\n",
    "print(\"test_y shape: \" + str(test_y.shape))"
   ]
  },
  {
   "cell_type": "code",
   "execution_count": 6,
   "metadata": {
    "ExecuteTime": {
     "end_time": "2019-03-12T23:46:30.303973Z",
     "start_time": "2019-03-12T23:46:30.278264Z"
    }
   },
   "outputs": [
    {
     "name": "stdout",
     "output_type": "stream",
     "text": [
      "train_x's shape: (12288, 209)\n",
      "test_x's shape: (12288, 50)\n"
     ]
    }
   ],
   "source": [
    "# Reshape the training and test examples\n",
    "train_x_flatten = train_x_orig.reshape(\n",
    "    train_x_orig.shape[0],\n",
    "    -1).T  # The \"-1\" makes reshape flatten the remaining dimensions\n",
    "test_x_flatten = test_x_orig.reshape(test_x_orig.shape[0], -1).T\n",
    "\n",
    "# Standardize data to have feature values between 0 and 1.\n",
    "train_x = train_x_flatten / 255.\n",
    "test_x = test_x_flatten / 255.\n",
    "\n",
    "print(\"train_x's shape: \" + str(train_x.shape))\n",
    "print(\"test_x's shape: \" + str(test_x.shape))"
   ]
  },
  {
   "cell_type": "markdown",
   "metadata": {},
   "source": [
    "**INSTANCIATING THE MODEL**"
   ]
  },
  {
   "cell_type": "code",
   "execution_count": 7,
   "metadata": {
    "ExecuteTime": {
     "end_time": "2019-03-12T23:46:31.215085Z",
     "start_time": "2019-03-12T23:46:31.208995Z"
    }
   },
   "outputs": [],
   "source": [
    "np.random.seed(22)\n",
    "layers_dims = [train_x.shape[0], 20, 7, 5, train_y.shape[0]]  #  4-layer model\n",
    "init_method = 'he'\n",
    "activation = 'relu'\n",
    "lambd = 0\n",
    "learning_rate = 0.00075\n",
    "optimizer_name = 'adam'\n",
    "num_epochs = 200\n",
    "\n",
    "clf = neural_net.MLNN(layers_dims, init_method, activation, lambd,\n",
    "                      optimizer_name, learning_rate, num_epochs)"
   ]
  },
  {
   "cell_type": "markdown",
   "metadata": {},
   "source": [
    "**TRAINING THE MODEL**"
   ]
  },
  {
   "cell_type": "code",
   "execution_count": 8,
   "metadata": {
    "ExecuteTime": {
     "end_time": "2019-03-12T23:46:45.669429Z",
     "start_time": "2019-03-12T23:46:32.103590Z"
    }
   },
   "outputs": [
    {
     "data": {
      "text/plain": [
       "<neural_net.MLNN at 0x7f1eac6382e8>"
      ]
     },
     "execution_count": 8,
     "metadata": {},
     "output_type": "execute_result"
    }
   ],
   "source": [
    "clf.train(train_x, train_y)"
   ]
  },
  {
   "cell_type": "markdown",
   "metadata": {},
   "source": [
    "**MAKING PREDICTIONS**"
   ]
  },
  {
   "cell_type": "code",
   "execution_count": 9,
   "metadata": {
    "ExecuteTime": {
     "end_time": "2019-03-12T23:46:45.731530Z",
     "start_time": "2019-03-12T23:46:45.717855Z"
    }
   },
   "outputs": [],
   "source": [
    "training_predictions = clf.predict(train_x)\n",
    "test_predictions = clf.predict(test_x)"
   ]
  },
  {
   "cell_type": "code",
   "execution_count": 10,
   "metadata": {
    "ExecuteTime": {
     "end_time": "2019-03-12T23:46:45.849843Z",
     "start_time": "2019-03-12T23:46:45.799555Z"
    }
   },
   "outputs": [
    {
     "name": "stdout",
     "output_type": "stream",
     "text": [
      "training accuracy:  65.55023923444976 %\n",
      "test accuracy:  34.0 %\n"
     ]
    }
   ],
   "source": [
    "training_accuracy = performance.compute_accuracy(train_y, training_predictions)\n",
    "print('training accuracy: ', training_accuracy, '%')\n",
    "\n",
    "test_accuracy = performance.compute_accuracy(test_y, test_predictions)\n",
    "print('test accuracy: ', test_accuracy, '%')"
   ]
  },
  {
   "cell_type": "code",
   "execution_count": 11,
   "metadata": {
    "ExecuteTime": {
     "end_time": "2019-03-12T23:46:48.924977Z",
     "start_time": "2019-03-12T23:46:48.921258Z"
    }
   },
   "outputs": [],
   "source": [
    "params = clf.get_params()"
   ]
  },
  {
   "cell_type": "code",
   "execution_count": 12,
   "metadata": {
    "ExecuteTime": {
     "end_time": "2019-03-12T23:46:49.990445Z",
     "start_time": "2019-03-12T23:46:49.707300Z"
    }
   },
   "outputs": [
    {
     "data": {
      "text/plain": [
       "[<matplotlib.lines.Line2D at 0x7f1eac6207f0>]"
      ]
     },
     "execution_count": 12,
     "metadata": {},
     "output_type": "execute_result"
    },
    {
     "data": {
      "image/png": "[encoded data removed]",
      "text/plain": [
       "<Figure size 432x288 with 1 Axes>"
      ]
     },
     "metadata": {
      "needs_background": "light"
     },
     "output_type": "display_data"
    }
   ],
   "source": [
    "plt.plot(params['costs'])"
   ]
  },
  {
   "cell_type": "markdown",
   "metadata": {
    "ExecuteTime": {
     "end_time": "2019-03-10T21:53:42.739332Z",
     "start_time": "2019-03-10T21:53:42.736592Z"
    }
   },
   "source": [
    "## Multi-class classification: MNIST handwritten digits recognition"
   ]
  },
  {
   "cell_type": "code",
   "execution_count": 13,
   "metadata": {
    "ExecuteTime": {
     "end_time": "2019-03-12T23:46:57.510071Z",
     "start_time": "2019-03-12T23:46:52.419658Z"
    }
   },
   "outputs": [],
   "source": [
    "import matplotlib.pyplot as plt\n",
    "import numpy as np\n",
    "import pandas as pd\n",
    "import seaborn as sns\n",
    "from scipy.io import loadmat  # SciPy module to load .mat files\n",
    "from utils import helpers\n",
    "\n",
    "sns.set_style('darkgrid')"
   ]
  },
  {
   "cell_type": "code",
   "execution_count": 14,
   "metadata": {
    "ExecuteTime": {
     "end_time": "2019-03-12T23:46:59.269879Z",
     "start_time": "2019-03-12T23:46:58.237373Z"
    }
   },
   "outputs": [],
   "source": [
    "mnist = loadmat('mnist-dataset/mnist-original.mat')"
   ]
  },
  {
   "cell_type": "code",
   "execution_count": 15,
   "metadata": {
    "ExecuteTime": {
     "end_time": "2019-03-12T23:46:59.874775Z",
     "start_time": "2019-03-12T23:46:59.869011Z"
    }
   },
   "outputs": [
    {
     "data": {
      "text/plain": [
       "(784, 70000)"
      ]
     },
     "execution_count": 15,
     "metadata": {},
     "output_type": "execute_result"
    }
   ],
   "source": [
    "# A sample of size 70.000 of 28x28 = 784pixels grayscale images\n",
    "mnist['data'].shape"
   ]
  },
  {
   "cell_type": "code",
   "execution_count": 16,
   "metadata": {
    "ExecuteTime": {
     "end_time": "2019-03-12T23:47:00.317164Z",
     "start_time": "2019-03-12T23:47:00.309264Z"
    }
   },
   "outputs": [
    {
     "data": {
      "text/plain": [
       "(1, 70000)"
      ]
     },
     "execution_count": 16,
     "metadata": {},
     "output_type": "execute_result"
    }
   ],
   "source": [
    "# Labels corresponding to each image\n",
    "mnist['label'].shape"
   ]
  },
  {
   "cell_type": "code",
   "execution_count": 17,
   "metadata": {
    "ExecuteTime": {
     "end_time": "2019-03-12T23:47:00.764737Z",
     "start_time": "2019-03-12T23:47:00.732263Z"
    }
   },
   "outputs": [],
   "source": [
    "# Combining data and label in one dataframe\n",
    "nb_pixels = mnist['data'].shape[0]\n",
    "nb_images = mnist['data'].shape[1]\n",
    "\n",
    "mnist_dataset = pd.DataFrame(mnist['data'].T)\n",
    "mnist_dataset.columns = ['x_{index}'.format(index=i) for i in range(nb_pixels)]\n",
    "mnist_dataset['label'] = mnist['label'].T.astype(int)"
   ]
  },
  {
   "cell_type": "code",
   "execution_count": 31,
   "metadata": {
    "ExecuteTime": {
     "end_time": "2019-03-12T23:47:40.107212Z",
     "start_time": "2019-03-12T23:47:40.096548Z"
    }
   },
   "outputs": [],
   "source": [
    "sample_size = 100\n",
    "mnist_dataset_sample = mnist_dataset.sample(n=sample_size)"
   ]
  },
  {
   "cell_type": "code",
   "execution_count": 32,
   "metadata": {
    "ExecuteTime": {
     "end_time": "2019-03-12T23:47:41.074282Z",
     "start_time": "2019-03-12T23:47:41.068707Z"
    }
   },
   "outputs": [],
   "source": [
    "X = mnist_dataset_sample.drop('label', 1).T.values\n",
    "y = np.atleast_2d(mnist_dataset_sample['label'])\n",
    "classes = np.array([0, 1, 2, 3, 4, 5, 6, 7, 8, 9])"
   ]
  },
  {
   "cell_type": "code",
   "execution_count": 33,
   "metadata": {
    "ExecuteTime": {
     "end_time": "2019-03-12T23:47:41.956354Z",
     "start_time": "2019-03-12T23:47:41.950871Z"
    }
   },
   "outputs": [],
   "source": [
    "# on hot encoding y\n",
    "y_enc = helpers.one_hot_encoding(y, classes)"
   ]
  },
  {
   "cell_type": "code",
   "execution_count": 34,
   "metadata": {
    "ExecuteTime": {
     "end_time": "2019-03-12T23:47:42.669564Z",
     "start_time": "2019-03-12T23:47:42.662023Z"
    }
   },
   "outputs": [],
   "source": [
    "layers_dims = [X.shape[0], 20, 10, 5, y_enc.shape[0]]  #  4-layer model\n",
    "init_method = 'he'\n",
    "activation = 'relu'\n",
    "lambd = 0\n",
    "learning_rate = 0.00075\n",
    "optimizer_name = 'adam'\n",
    "num_epochs = 100\n",
    "\n",
    "clf = neural_net.MLNN(layers_dims, init_method, activation, lambd,\n",
    "                      optimizer_name, learning_rate, num_epochs, minibatch_size=10)"
   ]
  },
  {
   "cell_type": "code",
   "execution_count": 35,
   "metadata": {
    "ExecuteTime": {
     "end_time": "2019-03-12T23:47:45.332698Z",
     "start_time": "2019-03-12T23:47:43.945676Z"
    }
   },
   "outputs": [
    {
     "data": {
      "text/plain": [
       "<neural_net.MLNN at 0x7f1e98bbc550>"
      ]
     },
     "execution_count": 35,
     "metadata": {},
     "output_type": "execute_result"
    }
   ],
   "source": [
    "clf.train(X, y_enc)"
   ]
  },
  {
   "cell_type": "code",
   "execution_count": 36,
   "metadata": {
    "ExecuteTime": {
     "end_time": "2019-03-12T23:47:47.224334Z",
     "start_time": "2019-03-12T23:47:47.220555Z"
    }
   },
   "outputs": [],
   "source": [
    "params = clf.get_params()"
   ]
  },
  {
   "cell_type": "code",
   "execution_count": 37,
   "metadata": {
    "ExecuteTime": {
     "end_time": "2019-03-12T23:47:48.135274Z",
     "start_time": "2019-03-12T23:47:47.963895Z"
    }
   },
   "outputs": [
    {
     "data": {
      "text/plain": [
       "[<matplotlib.lines.Line2D at 0x7f1e98c255c0>]"
      ]
     },
     "execution_count": 37,
     "metadata": {},
     "output_type": "execute_result"
    },
    {
     "data": {
      "image/png": "[encoded data removed]",
      "text/plain": [
       "<Figure size 432x288 with 1 Axes>"
      ]
     },
     "metadata": {},
     "output_type": "display_data"
    }
   ],
   "source": [
    "plt.plot(params['costs'])"
   ]
  },
  {
   "cell_type": "code",
   "execution_count": 38,
   "metadata": {
    "ExecuteTime": {
     "end_time": "2019-03-12T23:47:50.406907Z",
     "start_time": "2019-03-12T23:47:50.400929Z"
    }
   },
   "outputs": [],
   "source": [
    "training_predictions = clf.predict(X)"
   ]
  },
  {
   "cell_type": "code",
   "execution_count": 39,
   "metadata": {
    "ExecuteTime": {
     "end_time": "2019-03-12T23:47:50.982542Z",
     "start_time": "2019-03-12T23:47:50.977877Z"
    }
   },
   "outputs": [
    {
     "name": "stdout",
     "output_type": "stream",
     "text": [
      "Our model accuracy 0.42\n"
     ]
    }
   ],
   "source": [
    "print('Our model accuracy', np.sum(np.equal(y, training_predictions))/float(y.size))"
   ]
  },
  {
   "cell_type": "code",
   "execution_count": 40,
   "metadata": {
    "ExecuteTime": {
     "end_time": "2019-03-12T23:47:52.671309Z",
     "start_time": "2019-03-12T23:47:52.666191Z"
    }
   },
   "outputs": [],
   "source": [
    "from sklearn.neural_network import MLPClassifier"
   ]
  },
  {
   "cell_type": "code",
   "execution_count": 41,
   "metadata": {
    "ExecuteTime": {
     "end_time": "2019-03-12T23:47:53.930207Z",
     "start_time": "2019-03-12T23:47:53.524308Z"
    }
   },
   "outputs": [
    {
     "name": "stderr",
     "output_type": "stream",
     "text": [
      "/home/whitenoise/anaconda3/lib/python3.5/site-packages/sklearn/neural_network/multilayer_perceptron.py:562: ConvergenceWarning: Stochastic Optimizer: Maximum iterations (200) reached and the optimization hasn't converged yet.\n",
      "  % self.max_iter, ConvergenceWarning)\n"
     ]
    },
    {
     "data": {
      "text/plain": [
       "MLPClassifier(activation='relu', alpha=0.0001, batch_size='auto', beta_1=0.9,\n",
       "       beta_2=0.999, early_stopping=False, epsilon=1e-08,\n",
       "       hidden_layer_sizes=(20, 10, 5), learning_rate='constant',\n",
       "       learning_rate_init=0.00075, max_iter=200, momentum=0.9,\n",
       "       n_iter_no_change=10, nesterovs_momentum=True, power_t=0.5,\n",
       "       random_state=None, shuffle=True, solver='adam', tol=0.0001,\n",
       "       validation_fraction=0.1, verbose=False, warm_start=False)"
      ]
     },
     "execution_count": 41,
     "metadata": {},
     "output_type": "execute_result"
    }
   ],
   "source": [
    "clf = MLPClassifier(hidden_layer_sizes=(20,10,5), learning_rate_init=learning_rate)\n",
    "clf.fit(X.T, y.flatten())"
   ]
  },
  {
   "cell_type": "code",
   "execution_count": 42,
   "metadata": {
    "ExecuteTime": {
     "end_time": "2019-03-12T23:47:54.925003Z",
     "start_time": "2019-03-12T23:47:54.914513Z"
    }
   },
   "outputs": [],
   "source": [
    "pred = clf.predict(X.T)"
   ]
  },
  {
   "cell_type": "code",
   "execution_count": 43,
   "metadata": {
    "ExecuteTime": {
     "end_time": "2019-03-12T23:47:55.465553Z",
     "start_time": "2019-03-12T23:47:55.457768Z"
    }
   },
   "outputs": [
    {
     "name": "stdout",
     "output_type": "stream",
     "text": [
      "sklearn accuracy 0.18\n"
     ]
    }
   ],
   "source": [
    "print('sklearn accuracy', np.sum(np.equal(y, pred))/float(y.size))"
   ]
  },
  {
   "cell_type": "code",
   "execution_count": null,
   "metadata": {},
   "outputs": [],
   "source": []
  }
 ],
 "metadata": {
  "kernelspec": {
   "display_name": "Python 3",
   "language": "python",
   "name": "python3"
  },
  "language_info": {
   "codemirror_mode": {
    "name": "ipython",
    "version": 3
   },
   "file_extension": ".py",
   "mimetype": "text/x-python",
   "name": "python",
   "nbconvert_exporter": "python",
   "pygments_lexer": "ipython3",
   "version": "3.5.6"
  },
  "toc": {
   "base_numbering": 1,
   "nav_menu": {},
   "number_sections": true,
   "sideBar": true,
   "skip_h1_title": false,
   "title_cell": "Table of Contents",
   "title_sidebar": "Contents",
   "toc_cell": false,
   "toc_position": {},
   "toc_section_display": true,
   "toc_window_display": false
  },
  "varInspector": {
   "cols": {
    "lenName": 16,
    "lenType": 16,
    "lenVar": 40
   },
   "kernels_config": {
    "python": {
     "delete_cmd_postfix": "",
     "delete_cmd_prefix": "del ",
     "library": "var_list.py",
     "varRefreshCmd": "print(var_dic_list())"
    },
    "r": {
     "delete_cmd_postfix": ") ",
     "delete_cmd_prefix": "rm(",
     "library": "var_list.r",
     "varRefreshCmd": "cat(var_dic_list()) "
    }
   },
   "types_to_exclude": [
    "module",
    "function",
    "builtin_function_or_method",
    "instance",
    "_Feature"
   ],
   "window_display": false
  }
 },
 "nbformat": 4,
 "nbformat_minor": 2
}
